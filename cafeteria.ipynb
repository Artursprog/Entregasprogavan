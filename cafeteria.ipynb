{
  "cells": [
    {
      "cell_type": "markdown",
      "metadata": {
        "id": "view-in-github",
        "colab_type": "text"
      },
      "source": [
        "<a href=\"https://colab.research.google.com/github/Artursprog/Entregasprogavan/blob/main/cafeteria.ipynb\" target=\"_parent\"><img src=\"https://colab.research.google.com/assets/colab-badge.svg\" alt=\"Open In Colab\"/></a>"
      ]
    },
    {
      "cell_type": "code",
      "execution_count": null,
      "metadata": {
        "id": "JRcqmbzkD9h0"
      },
      "outputs": [],
      "source": [
        "class persona:\n",
        "    def __init__(self,nombre,correo):\n",
        "        self.nombre=nombre\n",
        "        self.correo=correo\n"
      ]
    },
    {
      "cell_type": "code",
      "execution_count": null,
      "metadata": {
        "id": "xTIj45HOD9h1"
      },
      "outputs": [],
      "source": [
        "#Hereda de Persona. Puede realizar pedidos y consultar su historial.\n",
        "class cliente(persona):\n",
        "    historial=[]\n",
        "    def __init__(self,nombre,correo,id_cliente):\n",
        "        super().__init__(nombre,correo)\n",
        "        self.id_cliente=id_cliente\n",
        "\n",
        "    def realizar_pedido(self,inventario,pedido):\n",
        "        ped=inventario\n",
        "        ped.aceptar_pedido(pedido)\n"
      ]
    },
    {
      "cell_type": "code",
      "execution_count": null,
      "metadata": {
        "id": "LF98Tyr8D9h2"
      },
      "outputs": [],
      "source": [
        "#Hereda de Persona. Tiene un rol (mesero, barista, gerente).\n",
        "class empleado(persona):\n",
        "    def __init__(self,nombre,correo,id_empleado,rol):\n",
        "        super().__init__(nombre,correo)\n",
        "        self.id_empleado=id_empleado\n",
        "        self.rol=rol\n",
        "\n",
        "    def actualisar_inv(self,inventario,leche,frutas,chocolate,azucar,cafe,biscocho,agua):\n",
        "        inv=inventario\n",
        "        inv.administrar(leche,frutas,chocolate,azucar,cafe,biscocho,agua)\n",
        "\n",
        "    def liberar_pedido(self,pedido):\n",
        "        ped=pedido\n",
        "        ped.estado=\"entregado\"\n"
      ]
    },
    {
      "cell_type": "code",
      "execution_count": null,
      "metadata": {
        "id": "HlZixNYGD9h5"
      },
      "outputs": [],
      "source": [
        "class p_base:\n",
        "    def __init__(self,nombre,id_producto):\n",
        "        self.nombre=nombre\n",
        "        self.id_producto = id_producto"
      ]
    },
    {
      "cell_type": "code",
      "execution_count": null,
      "metadata": {
        "id": "0M8R0PCnD9h6"
      },
      "outputs": [],
      "source": [
        "class bebida(p_base):\n",
        "    def __init__(self,nombre,id_producto,tamaño,tipo,personalizable,leche,frutas,chocolate,azucar,cafe,biscocho,agua):\n",
        "        super().__init__(nombre,id_producto)\n",
        "        self.tamaño=tamaño\n",
        "        self.tipo=tipo\n",
        "        self.personalizable=personalizable\n",
        "        self.leche=leche\n",
        "        self.frutas=frutas\n",
        "        self.chocolate=chocolate\n",
        "        self.azucar=azucar\n",
        "        self.cafe=cafe\n",
        "        self.biscocho=biscocho\n",
        "        self.agua=agua\n",
        "\n",
        "    def m_bebida(self):\n",
        "        print(f\"se creo la bebida:{self.nombre}  tamaño:{self.tamaño}  tipo:{self.tipo}\",end=\" \")\n",
        "        if(self.personalizable!=\" \"):print(f\" {self.personalizable}\",end=\" \")\n",
        "        print(\"con los siguientes ingredientes : \",end=\" \")\n",
        "        if(self.leche==1):print(\"leche\",end=\" \")\n",
        "        if(self.frutas==1):print(\"frutas\",end=\" \")\n",
        "        if(self.chocolate==1):print(\"chocolate\",end=\" \")\n",
        "        if(self.azucar==1):print(\"azucar\",end=\" \")\n",
        "        if(self.cafe==1):print(\"cafe\",end=\" \")\n",
        "        if(self.biscocho==1):print(\"biscocho\",end=\" \")\n",
        "        if(self.agua==1):print(\"agua\")\n",
        "        print(\" \")\n"
      ]
    },
    {
      "cell_type": "code",
      "execution_count": null,
      "metadata": {
        "id": "NuWEOWCwD9h6"
      },
      "outputs": [],
      "source": [
        "class postre(p_base):\n",
        "    def __init__(self,nombre,id_producto,vegano,gluten,leche,frutas,chocolate,azucar,cafe,biscocho,agua):\n",
        "        super().__init__(nombre,id_producto)\n",
        "        self.vegano=vegano\n",
        "        self.gluten=gluten\n",
        "        self.leche=leche\n",
        "        self.frutas=frutas\n",
        "        self.chocolate=chocolate\n",
        "        self.azucar=azucar\n",
        "        self.cafe=cafe\n",
        "        self.biscocho=biscocho\n",
        "        self.agua=agua\n",
        "\n",
        "    def m_postre(self):\n",
        "        print(f\"se creo el postre {self.nombre} con los siguientes ingredientes : \",end=\" \")\n",
        "        if(self.leche==1):print(\"leche\",end=\" \")\n",
        "        if(self.frutas==1):print(\"frutas\",end=\" \")\n",
        "        if(self.chocolate==1):print(\"chocolate\",end=\" \")\n",
        "        if(self.azucar==1):print(\"azucar\",end=\" \")\n",
        "        if(self.cafe==1):print(\"cafe\",end=\" \")\n",
        "        if(self.biscocho==1):print(\"biscocho\",end=\" \")\n",
        "        if(self.agua==1):print(\"agua\")\n",
        "        print(\" \")\n"
      ]
    },
    {
      "cell_type": "code",
      "execution_count": null,
      "metadata": {
        "id": "plAz-jqaD9h8"
      },
      "outputs": [],
      "source": [
        "class inventario():\n",
        "    def __init__(self,leche,frutas,chocolate,azucar,cafe,biscocho,agua):\n",
        "        self.leche=leche\n",
        "        self.frutas=frutas\n",
        "        self.chocolate=chocolate\n",
        "        self.azucar=azucar\n",
        "        self.cafe=cafe\n",
        "        self.biscocho=biscocho\n",
        "        self.agua=agua\n",
        "\n",
        "    def administrar(self,leche,frutas,chocolate,azucar,cafe,biscocho,agua):\n",
        "        self.leche+=leche\n",
        "        self.frutas+=frutas\n",
        "        self.chocolate+=chocolate\n",
        "        self.azucar+=azucar\n",
        "        self.cafe+=cafe\n",
        "        self.biscocho+=biscocho\n",
        "        self.agua+=agua\n",
        "\n",
        "    def mostar_inv(self):\n",
        "        print(f\"leche: {self.leche}\")\n",
        "        print(f\"frutas: {self.frutas}\")\n",
        "        print(f\"chocolate: {self.chocolate}\")\n",
        "        print(f\"azucar: {self.azucar}\")\n",
        "        print(f\"cafe: {self.cafe}\")\n",
        "        print(f\"biscocho: {self.biscocho}\")\n",
        "        print(f\"agua: {self.agua}\")\n",
        "\n",
        "\n",
        "    def aceptar_pedido(self,pedido):\n",
        "        if(pedido.pob == 1):\n",
        "            if((self.cafe-pedido.postre.cafe)or(self.leche-pedido.postre.leche)or(self.frutas-pedido.postre.frutas)or(self.chocolate-pedido.postre.chocolate)\n",
        "            or(self.azucar-pedido.postre.azucar)or(self.biscocho-pedido.postre.biscocho)or(self.agua-pedido.postre.agua))<0:\n",
        "                print(\"no se puede realizar el pedido faltan ingredientes\")\n",
        "            else:\n",
        "                print(f\"pedido realizado : {pedido.postre.nombre}\")\n",
        "                self.cafe-=pedido.postre.cafe\n",
        "                self.leche-=pedido.postre.leche\n",
        "                self.frutas-=pedido.postre.frutas\n",
        "                self.chocolate-=pedido.postre.chocolate\n",
        "                self.azucar-=pedido.postre.azucar\n",
        "                self.biscocho-=pedido.postre.biscocho\n",
        "                self.agua-=pedido.postre.biscocho\n",
        "                pedido.estado = \"en preparacion\"\n",
        "        else:\n",
        "            if((self.cafe-pedido.bebida.cafe)or(self.leche-pedido.bebida.leche)or(self.frutas-pedido.bebida.frutas)or(self.chocolate-pedido.bebida.chocolate)\n",
        "           or(self.azucar-pedido.bebida.azucar)or(self.biscocho-pedido.bebida.biscocho)or(self.agua-pedido.bebida.agua))<0:\n",
        "                print(\"no se puede realizar el pedido faltan ingredientes\")\n",
        "            else:\n",
        "                print(f\"pedido realizado : {pedido.bebida.nombre}\")\n",
        "                self.cafe-=pedido.bebida.cafe\n",
        "                self.leche-=pedido.bebida.leche\n",
        "                self.frutas-=pedido.bebida.frutas\n",
        "                self.chocolate-=pedido.bebida.chocolate\n",
        "                self.azucar-=pedido.bebida.azucar\n",
        "                self.biscocho-=pedido.bebida.biscocho\n",
        "                self.agua-=pedido.bebida.biscocho\n",
        "                pedido.estado = \"en preparacion\"\n"
      ]
    },
    {
      "cell_type": "code",
      "execution_count": null,
      "metadata": {
        "id": "kl2I7kF2D9h9"
      },
      "outputs": [],
      "source": [
        "class pedido():\n",
        "\n",
        "    lista_ped=[]\n",
        "\n",
        "    def __init__(self,No_pedido,inventario,postre,bebida,pob,estado):\n",
        "        self.No_pedido=No_pedido\n",
        "        self.inventario=inventario\n",
        "        self.bebida=bebida\n",
        "        self.postre=postre\n",
        "        self.pob=pob\n",
        "        self.estado=estado\n",
        "\n",
        "    def enlistar_pedido(self):\n",
        "        pedido.lista_ped.append(self)\n",
        "\n",
        "    @classmethod\n",
        "    def mostrar_pedidos(cls):\n",
        "        print(\"entre aqui\")\n",
        "        for pedido in cls.lista_ped:\n",
        "            print(f\"id_pedido:{pedido.No_pedido} nombre:{pedido.postre.nombre} estado:{pedido.estado}\")\n"
      ]
    },
    {
      "cell_type": "code",
      "execution_count": null,
      "metadata": {
        "id": "METHV_nyD9h-"
      },
      "outputs": [],
      "source": [
        "class promocion():\n",
        "    def __init__(self,No_promo):\n",
        "        self.No_promo=No_promo\n",
        "\n"
      ]
    },
    {
      "cell_type": "code",
      "execution_count": null,
      "metadata": {
        "id": "U8byXDMaD9h_",
        "outputId": "fc072078-7af7-4fd8-a090-a53b618d015f"
      },
      "outputs": [
        {
          "name": "stdout",
          "output_type": "stream",
          "text": [
            "se creo el postre pastel de chocolate con los siguientes ingredientes :  leche chocolate azucar biscocho  \n",
            "se creo el postre pastel de frutas con los siguientes ingredientes :  leche frutas azucar biscocho  \n",
            "se creo el postre pastel de frutas sin gluten con los siguientes ingredientes :  leche frutas azucar biscocho  \n",
            "se creo el postre chocoflan con los siguientes ingredientes :  leche chocolate azucar  \n",
            "se creo la bebida:cafe con leche  tamaño:grande  tipo:caliente  leche extra con los siguientes ingredientes :  leche azucar cafe  \n",
            "pedido realizado : pastel de chocolate\n",
            "no se puede realizar el pedido faltan ingredientes\n",
            "entre aqui\n",
            "id_pedido:01 nombre:pastel de chocolate estado:entregado\n",
            "id_pedido:02 nombre:pastel de frutas estado:pendiente\n",
            "id_pedido:03 nombre:pastel de frutas sin gluten estado:pendiente\n"
          ]
        }
      ],
      "source": [
        "postre1=postre(\"pastel de chocolate\",\"PCL1\",\"NO\",\"SI\",1,0,1,1,0,1,0)\n",
        "postre1.m_postre()\n",
        "postre2=postre(\"pastel de frutas\",\"003\",\"no\",\"si\",1,1,0,1,0,1,0)\n",
        "postre2.m_postre()\n",
        "postre3=postre(\"pastel de frutas sin gluten\",\"002\",\"si\",\"si\",1,1,0,1,0,1,0)\n",
        "postre3.m_postre()\n",
        "postre4=postre(\"chocoflan\",\"005\",\"no\",\"si\",1,0,1,1,0,0,0)\n",
        "postre4.m_postre()\n",
        "bebida1=bebida(\"cafe con leche\",\"CFL1\",\"grande\",\"caliente\",\"leche extra\",1,0,0,1,1,0,0,)\n",
        "bebida1.m_bebida()\n",
        "\n",
        "pedido1=pedido(\"01\",inventario,postre1,bebida1,1,\"pendiente\")\n",
        "pedido1.enlistar_pedido()\n",
        "pedido2=pedido(\"02\",inventario,postre2,bebida1,0,\"pendiente\")\n",
        "pedido2.enlistar_pedido()\n",
        "pedido3=pedido(\"03\",inventario,postre3,bebida1,0,\"pendiente\")\n",
        "pedido3.enlistar_pedido()\n",
        "inventario=inventario(0,0,0,0,0,0,0)\n",
        "\n",
        "empleado1=empleado(\"aramdo\",\"riosQgmnaiul.com\",\"ar1\",\"administrador\")\n",
        "empleado1.actualisar_inv(inventario,1,1,1,1,1,1,1)\n",
        "\n",
        "\n",
        "\n",
        "usuario1=cliente(\"jesus\",\"hghkghkgk\",\"fgejdbk\")\n",
        "usuario1.realizar_pedido(inventario,pedido1)\n",
        "usuario1.realizar_pedido(inventario,pedido2)\n",
        "\n",
        "empleado1.liberar_pedido(pedido1)\n",
        "#usuario1.realizar_pedido_bebida(inventario,pedido2)\n",
        "\n",
        "#inventario.mostar_inv()\n",
        "\n",
        "pedido.mostrar_pedidos()\n",
        "\n",
        "#inventario.administrar(1,-2,3,1,1,1,1)\n",
        "#inventario.mostar_inv()"
      ]
    }
  ],
  "metadata": {
    "kernelspec": {
      "display_name": "Python 3",
      "language": "python",
      "name": "python3"
    },
    "language_info": {
      "codemirror_mode": {
        "name": "ipython",
        "version": 3
      },
      "file_extension": ".py",
      "mimetype": "text/x-python",
      "name": "python",
      "nbconvert_exporter": "python",
      "pygments_lexer": "ipython3",
      "version": "3.11.1"
    },
    "colab": {
      "provenance": [],
      "include_colab_link": true
    }
  },
  "nbformat": 4,
  "nbformat_minor": 0
}